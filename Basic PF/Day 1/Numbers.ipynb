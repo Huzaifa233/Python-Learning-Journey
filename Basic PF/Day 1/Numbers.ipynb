{
 "cells": [
  {
   "cell_type": "markdown",
   "id": "04949041",
   "metadata": {},
   "source": [
    "# -------- 2- Numbers ---------"
   ]
  },
  {
   "cell_type": "code",
   "execution_count": 1,
   "id": "816c7bca",
   "metadata": {},
   "outputs": [
    {
     "name": "stdout",
     "output_type": "stream",
     "text": [
      "<class 'int'>\n",
      "<class 'float'>\n",
      "<class 'complex'>\n"
     ]
    }
   ],
   "source": [
    "# There are three numeric types in Python:\n",
    "# integer\n",
    "# float\n",
    "# complex\n",
    "\n",
    "x = 1    # int\n",
    "y = 2.8  # float\n",
    "z = 1j   # complex\n",
    "print(type(x))\n",
    "print(type(y))\n",
    "print(type(z))"
   ]
  },
  {
   "cell_type": "code",
   "execution_count": 2,
   "id": "037325cc",
   "metadata": {},
   "outputs": [
    {
     "name": "stdout",
     "output_type": "stream",
     "text": [
      "<class 'int'>\n",
      "<class 'int'>\n",
      "<class 'int'>\n"
     ]
    }
   ],
   "source": [
    "# INT should be used to represent whole numbers, positive or negative, without decimals, of unlimited length.\n",
    "a = 5\n",
    "b = -120\n",
    "c = 0\n",
    "d = 35656222554887711\n",
    "print(type(a))\n",
    "print(type(b))\n",
    "print(type(c))\n"
   ]
  },
  {
   "cell_type": "code",
   "execution_count": 4,
   "id": "a772d98c",
   "metadata": {},
   "outputs": [
    {
     "name": "stdout",
     "output_type": "stream",
     "text": [
      "<class 'float'>\n",
      "<class 'float'>\n",
      "<class 'float'>\n"
     ]
    }
   ],
   "source": [
    "# FLOAT should be used to represent real numbers and are written with a decimal point dividing the integer and fractional parts.\n",
    "x = 1.10\n",
    "y = -35.59\n",
    "z = 1.0\n",
    "print(type(x))\n",
    "print(type(y))\n",
    "print(type(z))\n"
   ]
  },
  {
   "cell_type": "code",
   "execution_count": 5,
   "id": "50d73f8f",
   "metadata": {},
   "outputs": [
    {
     "name": "stdout",
     "output_type": "stream",
     "text": [
      "<class 'float'>\n",
      "<class 'float'>\n",
      "<class 'float'>\n"
     ]
    }
   ],
   "source": [
    "# Float can also be scientific numbers with an \"e\" to indicate the power of 10.\n",
    "i = 35e3\n",
    "j = 12E4\n",
    "k = -87.7e100\n",
    "print(type(i))\n",
    "print(type(j))\n",
    "print(type(k))"
   ]
  },
  {
   "cell_type": "code",
   "execution_count": 6,
   "id": "49cdfbed",
   "metadata": {},
   "outputs": [
    {
     "name": "stdout",
     "output_type": "stream",
     "text": [
      "<class 'complex'>\n",
      "<class 'complex'>\n",
      "<class 'complex'>\n"
     ]
    }
   ],
   "source": [
    "# COMPLEX numbers are written with a \"j\" as the imaginary part.\n",
    "m = 3+5j\n",
    "n = -5j\n",
    "o = 7j\n",
    "print(type(m))\n",
    "print(type(n))\n",
    "print(type(o))"
   ]
  },
  {
   "cell_type": "code",
   "execution_count": 8,
   "id": "224505bf",
   "metadata": {},
   "outputs": [
    {
     "name": "stdout",
     "output_type": "stream",
     "text": [
      "<class 'float'> 1.0\n",
      "<class 'int'> 2\n",
      "<class 'complex'> (1+0j)\n"
     ]
    }
   ],
   "source": [
    "# Type Conversion:\n",
    "# You can convert from one type to another with the int(), float(), and complex() methods:\n",
    "\n",
    "x = 1   # int\n",
    "y = 2.8 # float\n",
    "z = 3j  # complex\n",
    "\n",
    "# convert to float\n",
    "a = float(x)\n",
    "\n",
    "# convert to int\n",
    "b = int(y)\n",
    "\n",
    "# convert to complex\n",
    "c = complex(x)\n",
    "\n",
    "print(type(a), a)\n",
    "print(type(b), b)\n",
    "print(type(c), c)"
   ]
  },
  {
   "cell_type": "markdown",
   "id": "34538c9a",
   "metadata": {},
   "source": [
    "##### Note: You cannot convert complex numbers into another number type."
   ]
  },
  {
   "cell_type": "code",
   "execution_count": 11,
   "id": "7f0ab347",
   "metadata": {},
   "outputs": [
    {
     "name": "stdout",
     "output_type": "stream",
     "text": [
      "3\n"
     ]
    }
   ],
   "source": [
    "# ----Random Number:----\n",
    "# Python does not have a random() function to make a random number, but Python has a built-in module called random that can be used to make random numbers:\n",
    "# import random module, and display a random number between 1 and 9:\n",
    "import random\n",
    "print(random.randrange(1, 10))\n"
   ]
  },
  {
   "cell_type": "code",
   "execution_count": null,
   "id": "e79ebe34",
   "metadata": {},
   "outputs": [],
   "source": []
  }
 ],
 "metadata": {
  "kernelspec": {
   "display_name": "Python 3",
   "language": "python",
   "name": "python3"
  },
  "language_info": {
   "codemirror_mode": {
    "name": "ipython",
    "version": 3
   },
   "file_extension": ".py",
   "mimetype": "text/x-python",
   "name": "python",
   "nbconvert_exporter": "python",
   "pygments_lexer": "ipython3",
   "version": "3.11.9"
  }
 },
 "nbformat": 4,
 "nbformat_minor": 5
}
