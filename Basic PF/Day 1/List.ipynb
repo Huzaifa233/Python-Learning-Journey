{
 "cells": [
  {
   "cell_type": "markdown",
   "id": "b1539a4f",
   "metadata": {},
   "source": [
    "# --------- 4- List --------\n"
   ]
  },
  {
   "cell_type": "code",
   "execution_count": 12,
   "id": "835e5452",
   "metadata": {},
   "outputs": [
    {
     "name": "stdout",
     "output_type": "stream",
     "text": [
      "['apple', 'banana', 'cherry', 'apple']\n"
     ]
    }
   ],
   "source": [
    "# ------------List:------------\n",
    "# A collection which is ordered and changeable. Allows duplicate members.\n",
    "# Defined by square brackets [].\n",
    "\n",
    "fruits = [\"apple\", \"banana\", \"cherry\", \"apple\"]\n",
    "print(fruits)\n"
   ]
  },
  {
   "cell_type": "code",
   "execution_count": 13,
   "id": "e81905ce",
   "metadata": {},
   "outputs": [
    {
     "name": "stdout",
     "output_type": "stream",
     "text": [
      "banana\n"
     ]
    }
   ],
   "source": [
    "# -----------List Items:-------------\n",
    "# Ordered: When we say that lists are ordered, it means that the items have a defined order, and that order will not change unless we specifically change it.\n",
    "# Changeable: Lists are changeable, meaning that we can change, add, and remove\n",
    "# List items are indexed, the first item has index [0], the second item has index [1] etc.\n",
    "\n",
    "fruits = [\"apple\", \"banana\", \"cherry\"]\n",
    "print(fruits[1])  # Output: banana"
   ]
  },
  {
   "cell_type": "markdown",
   "id": "e957e56a",
   "metadata": {},
   "source": [
    "##### Note: There are some list methods that will change the order, but in general: the order of the items will not change."
   ]
  },
  {
   "cell_type": "code",
   "execution_count": 14,
   "id": "8f0b4de2",
   "metadata": {},
   "outputs": [
    {
     "name": "stdout",
     "output_type": "stream",
     "text": [
      "3\n"
     ]
    }
   ],
   "source": [
    "# ----------- List Lenght: -------------\n",
    "# To determine how many items a list has, use the len() function.\n",
    "\n",
    "fruits = [\"apple\", \"banana\", \"cherry\"]\n",
    "print(len(fruits))  # Output: 3"
   ]
  },
  {
   "cell_type": "code",
   "execution_count": 15,
   "id": "6f3d13c4",
   "metadata": {},
   "outputs": [
    {
     "name": "stdout",
     "output_type": "stream",
     "text": [
      "<class 'list'> ['abc', 34, True, 40.5, ['apple', 'banana']]\n"
     ]
    }
   ],
   "source": [
    "# List Items - Data Types\n",
    "# List items can be of any data type:\n",
    "# String, int, float, bool, list, tuple, set, dict, etc.\n",
    "# A list can contain different data types:\n",
    "\n",
    "list1 = [\"apple\", \"banana\", \"cherry\"]  # list of strings\n",
    "list2 = [1, 5, 7, 9, 3]  # list of integers\n",
    "list3 = [True, False, False]  # list of booleans    \n",
    "list4 = [\"abc\", 34, True, 40.5, [\"apple\", \"banana\"]]  # list of mixed data types\n",
    "print(type(list4), list4)\n"
   ]
  },
  {
   "cell_type": "code",
   "execution_count": 16,
   "id": "fc2c6ccd",
   "metadata": {},
   "outputs": [
    {
     "name": "stdout",
     "output_type": "stream",
     "text": [
      "<class 'list'> ['apple', 'banana', 'cherry']\n"
     ]
    }
   ],
   "source": [
    "# -----------The list() Constructor-----------\n",
    "# It is also possible to use the list() constructor to make a list.\n",
    "thislist = list((\"apple\", \"banana\", \"cherry\"))  # note the double round-brackets\n",
    "print(type(thislist), thislist)\n"
   ]
  },
  {
   "cell_type": "markdown",
   "id": "923d836e",
   "metadata": {},
   "source": [
    "## Python Collections (Arrays):\n",
    "### There are four collection data types in the Python programming language:\n",
    "\n",
    "##### List is a collection which is ordered and changeable. Allows duplicate members.\n",
    "##### Tuple is a collection which is ordered and unchangeable. Allows duplicate members.\n",
    "##### Set is a collection which is unordered, unchangeable*, and unindexed. No duplicate members.\n",
    "##### Dictionary is a collection which is ordered** and changeable. No duplicate members."
   ]
  },
  {
   "cell_type": "code",
   "execution_count": 17,
   "id": "4eb1f4cf",
   "metadata": {},
   "outputs": [
    {
     "name": "stdout",
     "output_type": "stream",
     "text": [
      "apple\n",
      "cherry\n"
     ]
    }
   ],
   "source": [
    "#-------- Access List Items-----------\n",
    "# You can access the list items by referring to the index number.\n",
    "\n",
    "thislist = [\"apple\", \"banana\", \"cherry\"]\n",
    "print(thislist[0])  # Output: apple\n",
    "print(thislist[2])  # Output: cherry"
   ]
  },
  {
   "cell_type": "code",
   "execution_count": null,
   "id": "91d17b19",
   "metadata": {},
   "outputs": [
    {
     "name": "stdout",
     "output_type": "stream",
     "text": [
      "cherry\n",
      "banana\n"
     ]
    }
   ],
   "source": [
    "# -----------Negative Indexing-----------\n",
    "# Negative indexing means start from the end\n",
    "# -1 refers to the last item, \n",
    "# -2 refers to the second last item etc.\n",
    "\n",
    "thislist = [\"apple\", \"banana\", \"cherry\"]\n",
    "print(thislist[-1])  # Output: cherry\n",
    "print(thislist[-2])  # Output: banana"
   ]
  },
  {
   "cell_type": "code",
   "execution_count": null,
   "id": "4d53d675",
   "metadata": {},
   "outputs": [
    {
     "name": "stdout",
     "output_type": "stream",
     "text": [
      "['cherry', 'orange', 'kiwi']\n",
      "['apple', 'banana', 'cherry', 'orange']\n",
      "['orange', 'kiwi', 'melon', 'mango']\n"
     ]
    }
   ],
   "source": [
    "# ------------Range of Indexes------------\n",
    "# You can specify a range of indexes by specifying where to start and where to end the range.\n",
    "# When specifying a range, the return value will be a new list with the specified items.\n",
    "\n",
    "thislist = [\"apple\", \"banana\", \"cherry\", \"orange\", \"kiwi\", \"melon\", \"mango\"]\n",
    "print(thislist[2:5])  # Output: ['cherry', 'orange', 'kiwi']\n",
    "print(thislist[:4])   # Output: ['apple', 'banana', 'cherry', 'orange'] \n",
    "print(thislist[3:])   # Output: ['orange', 'kiwi', 'melon', 'mango']"
   ]
  },
  {
   "cell_type": "code",
   "execution_count": null,
   "id": "47a1db96",
   "metadata": {},
   "outputs": [],
   "source": [
    "# ------------Range of Negative Indexes------------\n",
    "# Specify a range of negative indexes\n",
    "\n",
    "thislist = [\"apple\", \"banana\", \"cherry\", \"orange\", \"kiwi\", \"melon\", \"mango\"]\n",
    "print(thislist[-4:-1])  # Output: ['kiwi', 'melon', 'mango']\n",
    "print(thislist[-6:-2])  # Output: ['banana', 'cherry', 'orange', 'kiwi']"
   ]
  },
  {
   "cell_type": "code",
   "execution_count": null,
   "id": "fad401a5",
   "metadata": {},
   "outputs": [],
   "source": [
    "# -----------Check if Item Exists------------\n",
    "# To determine "
   ]
  },
  {
   "cell_type": "code",
   "execution_count": null,
   "id": "fed632da",
   "metadata": {},
   "outputs": [],
   "source": []
  }
 ],
 "metadata": {
  "kernelspec": {
   "display_name": "Python 3",
   "language": "python",
   "name": "python3"
  },
  "language_info": {
   "codemirror_mode": {
    "name": "ipython",
    "version": 3
   },
   "file_extension": ".py",
   "mimetype": "text/x-python",
   "name": "python",
   "nbconvert_exporter": "python",
   "pygments_lexer": "ipython3",
   "version": "3.11.9"
  }
 },
 "nbformat": 4,
 "nbformat_minor": 5
}
