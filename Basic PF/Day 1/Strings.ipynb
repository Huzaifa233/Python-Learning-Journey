{
 "cells": [
  {
   "cell_type": "markdown",
   "id": "e54d9bfd",
   "metadata": {},
   "source": [
    "# ------- Strings -------"
   ]
  },
  {
   "cell_type": "code",
   "execution_count": 1,
   "id": "23cb261e",
   "metadata": {},
   "outputs": [
    {
     "name": "stdout",
     "output_type": "stream",
     "text": [
      "Hello\n",
      "Hello\n"
     ]
    }
   ],
   "source": [
    "# String in Python is surrounded by either single quotation marks, or double quotation marks. \n",
    "# 'hello' is the same as \"hello\".\n",
    "\n",
    "print(\"Hello\")\n",
    "print('Hello')"
   ]
  },
  {
   "cell_type": "code",
   "execution_count": 2,
   "id": "4ed64341",
   "metadata": {},
   "outputs": [
    {
     "name": "stdout",
     "output_type": "stream",
     "text": [
      "He said, 'Hello'\n",
      "He said, \"Hello\"\n"
     ]
    }
   ],
   "source": [
    "# Quotes Inside Quotes\n",
    "print(\"He said, 'Hello'\")\n",
    "print('He said, \"Hello\"')"
   ]
  },
  {
   "cell_type": "code",
   "execution_count": 3,
   "id": "03105707",
   "metadata": {},
   "outputs": [
    {
     "name": "stdout",
     "output_type": "stream",
     "text": [
      "Hello\n",
      "Hello\n"
     ]
    }
   ],
   "source": [
    "# Assign String to a Variable\n",
    "a = \"Hello\"\n",
    "b = 'Hello'\n",
    "print(a)\n",
    "print(b)"
   ]
  },
  {
   "cell_type": "code",
   "execution_count": 4,
   "id": "4e645ad9",
   "metadata": {},
   "outputs": [
    {
     "name": "stdout",
     "output_type": "stream",
     "text": [
      "Lorem ipsum dolor sit amet,\n",
      "consectetur adipiscing elit,\n",
      "sed do eiusmod tempor incididunt ut labore et dolore magna aliqua.\n"
     ]
    }
   ],
   "source": [
    "# Multiline Strings\n",
    "# You can assign a multiline string to a variable by using three quotes:\n",
    "\n",
    "a = \"\"\"Lorem ipsum dolor sit amet,\n",
    "consectetur adipiscing elit,\n",
    "sed do eiusmod tempor incididunt ut labore et dolore magna aliqua.\"\"\"\n",
    "print(a)"
   ]
  },
  {
   "cell_type": "code",
   "execution_count": 5,
   "id": "a24e7f96",
   "metadata": {},
   "outputs": [
    {
     "name": "stdout",
     "output_type": "stream",
     "text": [
      "Lorem ipsum dolor sit amet,\n",
      "consectetur adipiscing elit,\n",
      "sed do eiusmod tempor incididunt ut labore et dolore magna aliqua.\n"
     ]
    }
   ],
   "source": [
    "# Or three single quotes:\n",
    "\n",
    "a = '''Lorem ipsum dolor sit amet,\n",
    "consectetur adipiscing elit,\n",
    "sed do eiusmod tempor incididunt ut labore et dolore magna aliqua.'''\n",
    "print(a)\n",
    "\n"
   ]
  },
  {
   "cell_type": "code",
   "execution_count": 7,
   "id": "57259611",
   "metadata": {},
   "outputs": [
    {
     "name": "stdout",
     "output_type": "stream",
     "text": [
      "H\n"
     ]
    }
   ],
   "source": [
    "# Strings are Arrays:\n",
    "# Get the character at position 1 (remember that the first character has the position 0):\n",
    "\n",
    "a = \"Hello, World!\"\n",
    "print(a[0])\n"
   ]
  },
  {
   "cell_type": "code",
   "execution_count": 8,
   "id": "f290de44",
   "metadata": {},
   "outputs": [
    {
     "name": "stdout",
     "output_type": "stream",
     "text": [
      "b\n",
      "a\n",
      "n\n",
      "a\n",
      "n\n",
      "a\n"
     ]
    }
   ],
   "source": [
    "# Looping Through a String:\n",
    "# Loop through the letters in the word \"banana\":\n",
    "\n",
    "for x in \"banana\":\n",
    "    print(x)"
   ]
  },
  {
   "cell_type": "code",
   "execution_count": 9,
   "id": "d22f6e70",
   "metadata": {},
   "outputs": [
    {
     "name": "stdout",
     "output_type": "stream",
     "text": [
      "13\n"
     ]
    }
   ],
   "source": [
    "# String Length\n",
    "# The len() function returns the length of a string:\n",
    "\n",
    "a = \"Hello, World!\"\n",
    "print(len(a))"
   ]
  },
  {
   "cell_type": "code",
   "execution_count": 12,
   "id": "e82812e2",
   "metadata": {},
   "outputs": [
    {
     "name": "stdout",
     "output_type": "stream",
     "text": [
      "False\n",
      "True\n"
     ]
    }
   ],
   "source": [
    "# Check String\n",
    "# To check if a certain phrase or character is present in a string, we can use the keyword in.\n",
    "\n",
    "txt = \"The best things in life are free!\"\n",
    "print(\"Huzaifa\" in txt)\n",
    "print(\"free\" in txt)"
   ]
  },
  {
   "cell_type": "code",
   "execution_count": 13,
   "id": "2dbe5762",
   "metadata": {},
   "outputs": [
    {
     "name": "stdout",
     "output_type": "stream",
     "text": [
      "Yes, 'free' is present.\n"
     ]
    }
   ],
   "source": [
    "# Use it in an if statement:\n",
    "if \"free\" in txt:\n",
    "    print(\"Yes, 'free' is present.\")"
   ]
  },
  {
   "cell_type": "code",
   "execution_count": 14,
   "id": "f96568aa",
   "metadata": {},
   "outputs": [
    {
     "name": "stdout",
     "output_type": "stream",
     "text": [
      "No, 'expensive' is NOT present.\n"
     ]
    }
   ],
   "source": [
    "# Check if NOT\n",
    "txt = \"The best things in life are free!\"\n",
    "print(\"No, 'expensive' is NOT present.\")"
   ]
  },
  {
   "cell_type": "code",
   "execution_count": 15,
   "id": "c3c74ce2",
   "metadata": {},
   "outputs": [
    {
     "name": "stdout",
     "output_type": "stream",
     "text": [
      "No, 'expensive' is NOT present.\n"
     ]
    }
   ],
   "source": [
    "# print only if \"expensive\" is NOT present:\n",
    "if \"expensive\" not in txt:\n",
    "    print(\"No, 'expensive' is NOT present.\")"
   ]
  },
  {
   "cell_type": "code",
   "execution_count": null,
   "id": "5dd19cb0",
   "metadata": {},
   "outputs": [
    {
     "name": "stdout",
     "output_type": "stream",
     "text": [
      "llo, Wo\n"
     ]
    }
   ],
   "source": [
    "# SLICING\n",
    "# You can return a range of characters by using the slice syntax.\n",
    "# Specify the start index and the end index, separated by a colon, to return a part\n",
    "\n",
    "b = \"Hello, World!\"\n",
    "print(b[2:9])  # characters from position 2 to 9 (not included)"
   ]
  },
  {
   "cell_type": "code",
   "execution_count": 18,
   "id": "26d1a109",
   "metadata": {},
   "outputs": [
    {
     "name": "stdout",
     "output_type": "stream",
     "text": [
      "Hello\n"
     ]
    }
   ],
   "source": [
    "# Slice From the Start\n",
    "# Get the characters from the start to position 5 (not included):\n",
    "\n",
    "b = \"Hello, World!\"\n",
    "print(b[:5])  # characters from the start to position 5 (not included)"
   ]
  },
  {
   "cell_type": "code",
   "execution_count": 19,
   "id": "1f44d0fc",
   "metadata": {},
   "outputs": [
    {
     "name": "stdout",
     "output_type": "stream",
     "text": [
      "llo, World!\n"
     ]
    }
   ],
   "source": [
    "# Slice To the End\n",
    "# Get the characters from position 2 to the end:\n",
    "\n",
    "b = \"Hello, World!\"\n",
    "print(b[2:])  # characters from position 2 to the end"
   ]
  },
  {
   "cell_type": "code",
   "execution_count": 24,
   "id": "26be5ab6",
   "metadata": {},
   "outputs": [
    {
     "name": "stdout",
     "output_type": "stream",
     "text": [
      "orld\n"
     ]
    }
   ],
   "source": [
    "# ------ Negative Indexing------\n",
    "# Negative indexing means start from the end of the string.\n",
    "# -1 refers to the last character, -2 refers to the second last character, and\n",
    "\n",
    "b = \"Hello, World!\"\n",
    "print(b[-5:-1])  # characters from position -5 to -2 (not included)"
   ]
  },
  {
   "cell_type": "code",
   "execution_count": 25,
   "id": "22164877",
   "metadata": {},
   "outputs": [
    {
     "name": "stdout",
     "output_type": "stream",
     "text": [
      "HELLO, WORLD!\n",
      "hello, world!\n",
      "Hello, World!\n",
      "   Hi, World!   \n",
      "['Hello', ' World!']\n"
     ]
    }
   ],
   "source": [
    "# --------Modify Strings----------\n",
    "# Upper Case\n",
    "a = \"hello, world!\"\n",
    "print(a.upper())  # HELLO, WORLD!\n",
    "\n",
    "# Lower Case\n",
    "print(a.lower())  # hello, world!\n",
    "\n",
    "# Remove Whitespace\n",
    "a = \"   Hello, World!   \"\n",
    "print(a.strip())  # \"Hello, World!\"\n",
    "\n",
    "# Replace\n",
    "print(a.replace(\"Hello\", \"Hi\"))  # \"   Hi, World!   \"\n",
    "\n",
    "# Split String\n",
    "a = \"Hello, World!\"\n",
    "print(a.split(\",\"))  # ['Hello', ' World!']"
   ]
  },
  {
   "cell_type": "code",
   "execution_count": null,
   "id": "506ede95",
   "metadata": {},
   "outputs": [
    {
     "name": "stdout",
     "output_type": "stream",
     "text": [
      "Hello World\n"
     ]
    }
   ],
   "source": [
    "#-------- String Concatenation----------\n",
    "# To concatenate, or combine, two strings you can use the + operator.\n",
    "# To add a space between them, add a \" \":\n",
    "\n",
    "a = \"Hello\"\n",
    "b = \"World\"\n",
    "c = a + \" \" + b\n",
    "# c = a + b\n",
    "print(c)  # Hello World"
   ]
  },
  {
   "cell_type": "code",
   "execution_count": null,
   "id": "28485b32",
   "metadata": {},
   "outputs": [],
   "source": [
    "# ----------Format - Strings----------\n",
    "# This will produce an error because we are trying to combine a string and a number:\n",
    "\n",
    "# age = 36\n",
    "# txt = \"My name is John, and I am\" + age\n",
    "# print(txt)  # My name is John, and I am 36"
   ]
  },
  {
   "cell_type": "code",
   "execution_count": null,
   "id": "d41b5ffb",
   "metadata": {},
   "outputs": [
    {
     "name": "stdout",
     "output_type": "stream",
     "text": [
      "My name is John, and I am 36\n"
     ]
    }
   ],
   "source": [
    "# -----------F-Strings-----------\n",
    "# Starting with Python 3.6, we can use f-strings to format strings.\n",
    "# An f-string is a string that is prefixed with 'f' or 'F'.\n",
    "# Create an f-string:\n",
    "\n",
    "age = 36\n",
    "txt = f\"My name is John, and I am {age}\"\n",
    "print(txt)  # My name is John, and I am 36"
   ]
  },
  {
   "cell_type": "code",
   "execution_count": null,
   "id": "f3b4b442",
   "metadata": {},
   "outputs": [
    {
     "name": "stdout",
     "output_type": "stream",
     "text": [
      "I want to pay 49.95 dollars for 3 pieces of item 567.\n"
     ]
    }
   ],
   "source": [
    "# ------Placeholders and Modifiers--------\n",
    "# You can add placeholders using curly brackets {}.\n",
    "\n",
    "quantity = 3\n",
    "itemno = 567\n",
    "price = 49.95\n",
    "myorder = f\"I want to pay {price} dollars for {quantity} pieces of item {itemno}.\"\n",
    "print(myorder)  # I want to pay 49.95 dollars for 3 pieces"
   ]
  },
  {
   "cell_type": "code",
   "execution_count": 36,
   "id": "df097687",
   "metadata": {},
   "outputs": [
    {
     "name": "stdout",
     "output_type": "stream",
     "text": [
      "I want to pay 49.69 dollars.\n"
     ]
    }
   ],
   "source": [
    "# A placeholder can include a modifier to format the value.\n",
    "# modifier  :.2f  formats the price to two decimal places:\n",
    "\n",
    "price = 49.6890\n",
    "myorder = f\"I want to pay {price:.2f} dollars.\"\n",
    "print(myorder)  # I want to pay 49.95 dollars."
   ]
  },
  {
   "cell_type": "code",
   "execution_count": 37,
   "id": "8b10d3a4",
   "metadata": {},
   "outputs": [
    {
     "name": "stdout",
     "output_type": "stream",
     "text": [
      "5 plus 10 is 15\n"
     ]
    }
   ],
   "source": [
    "# Perform a math operation in the placeholder, and return the result:\n",
    "\n",
    "txt = f\"5 plus 10 is {5 + 10}\"\n",
    "print(txt)  # 5 plus 10 is 15"
   ]
  },
  {
   "cell_type": "code",
   "execution_count": 38,
   "id": "8c845caa",
   "metadata": {},
   "outputs": [
    {
     "name": "stdout",
     "output_type": "stream",
     "text": [
      "We are the so-called \"Vikings\" from the north.\n"
     ]
    }
   ],
   "source": [
    "    # ---------Escape Characters-----------\n",
    "# To insert characters that are illegal in a string, use an escape character.\n",
    "# An escape character is a backslash \\ followed by the character you want to insert.\n",
    "\n",
    "# txt = \"We are the so-called \"Vikings\" from the north.\"\n",
    "      # SyntaxError: invalid syntax\n",
    "# print(txt)\n",
    "\n",
    "txt = \"We are the so-called \\\"Vikings\\\" from the north.\"\n",
    "print(txt) "
   ]
  },
  {
   "cell_type": "code",
   "execution_count": 40,
   "id": "4b1d9945",
   "metadata": {},
   "outputs": [
    {
     "name": "stdout",
     "output_type": "stream",
     "text": [
      "Hello\n",
      "World\n",
      "Hello\tWorld\n",
      "HellWorld\n",
      "Hello\\World\n",
      "Hello'World\n",
      "Hello\"World\n",
      "World\n",
      "Hello\u0000World\n",
      "HelloHWorld\n"
     ]
    }
   ],
   "source": [
    "# ---Other escape characters used in Python:---\n",
    "\n",
    "# New Line\n",
    "txt = \"Hello\\nWorld\"\n",
    "print(txt)  # Hello\n",
    "            # World\n",
    "\n",
    "# Tab\n",
    "txt = \"Hello\\tWorld\"\n",
    "print(txt)  # Hello    World\n",
    "\n",
    "\n",
    "# Backspace\n",
    "txt = \"Hello\\bWorld\"\n",
    "print(txt)  # HellWorld\n",
    "\n",
    "\n",
    "# Backslash\n",
    "txt = \"Hello\\\\World\"\n",
    "print(txt)  # Hello\\World\n",
    "\n",
    "\n",
    "# Single Quote\n",
    "txt = \"Hello\\'World\"\n",
    "print(txt)  # Hello'World\n",
    "\n",
    "\n",
    "# Double Quote\n",
    "txt = \"Hello\\\"World\"\n",
    "print(txt)  # Hello\"World\n",
    "\n",
    "\n",
    "# Carriage Return\n",
    "txt = \"Hello\\rWorld\"\n",
    "print(txt)  # World\n",
    "\n",
    "\n",
    "# Octal Value\n",
    "txt = \"Hello\\000World\"\n",
    "print(txt)  # HelloHWorld\n",
    "\n",
    "\n",
    "# Hex Value\n",
    "txt = \"Hello\\x48World\"\n",
    "print(txt)  # HellohhWorld"
   ]
  },
  {
   "cell_type": "code",
   "execution_count": 43,
   "id": "74a615f3",
   "metadata": {},
   "outputs": [
    {
     "name": "stdout",
     "output_type": "stream",
     "text": [
      "Hello, world!\n",
      "hello, world!\n",
      "       hello        \n",
      "xxxxxxxhelloxxxxxxxx\n",
      "2\n",
      "b'hello, world!'\n",
      "True\n",
      "H e l l o\n",
      "4\n",
      "Hello, John. Welcome to Python!\n",
      "Hello, John. Welcome to Python!\n",
      "4\n",
      "True\n",
      "True\n",
      "True\n",
      "True\n",
      "True\n",
      "True\n",
      "True\n",
      "True\n",
      "False\n",
      "True\n",
      "True\n",
      "True\n",
      "Hello World\n",
      "hello               \n",
      "helloxxxxxxxxxxxxxxx\n",
      "hello, world!\n",
      "Hello, World!   \n",
      "12445\n",
      "('hello', ',', ' world!')\n",
      "hi, world!\n",
      "8\n",
      "8\n",
      "               hello\n",
      "xxxxxxxxxxxxxxxhello\n",
      "('hello', ',', ' world!')\n",
      "['hello, world, welcome', ' to', ' python']\n",
      "   Hello, World!\n",
      "['hello', 'world', 'welcome', 'to', 'python']\n",
      "['Hello', 'World', 'Welcome']\n",
      "True\n",
      "Hello, World!\n",
      "hELLO, wORLD!\n",
      "Hello, World!\n",
      "HELLO, WORLD!\n",
      "00042\n"
     ]
    }
   ],
   "source": [
    "# ---------String Methods-----------\n",
    "# String methods return new values. They do not change the original string.\n",
    "# python has a set of built-in methods that you can use on strings.\n",
    "\n",
    "# ------1- Capitalize Method-----\n",
    "# The capitalize() method returns a string where the first character is upper case, and the rest are lower case.\n",
    "a = \"hello, world!\"\n",
    "print(a.capitalize())  # Hello, world!\n",
    "\n",
    "\n",
    "# ------2-casefold() Method ------\n",
    "# The casefold() method returns a string where all the characters are lower case.\n",
    "a = \"Hello, World!\"\n",
    "print(a.casefold())  # hello, world!\n",
    "\n",
    "\n",
    "\n",
    "# ------ 3- center() Method -------\n",
    "# The center() method returns a centered string.\n",
    "a = \"hello\"\n",
    "print(a.center(20))  #        hello\n",
    "print(a.center(20, \"x\"))  # xxxxxxxxxhelloxxxxxxxxx\n",
    "\n",
    "\n",
    "\n",
    "# -------4- count() Method--------\n",
    "# The count() method returns the number of times a specified value occurs in a string.\n",
    "a = \"hello, world!\"\n",
    "print(a.count(\"o\"))  # 2\n",
    "\n",
    "\n",
    "\n",
    "# ------5- encode() Method-------\n",
    "# The encode() method returns an encoded version of the string.\n",
    "a = \"hello, world!\"\n",
    "print(a.encode())  # b'hello, world!'\n",
    "\n",
    "\n",
    "\n",
    "# -------6- endswith() Method-------\n",
    "# The endswith() method returns True if the string ends with the specified value.\n",
    "a = \"hello, world!\"\n",
    "print(a.endswith(\"!\"))  # True\n",
    "\n",
    "\n",
    "\n",
    "# ------7- expandtabs() Method-------\n",
    "# The expandtabs() method sets the tab size of the string.\n",
    "a = \"H\\te\\tl\\tl\\to\"\n",
    "print(a.expandtabs(2))  # H e l l o\n",
    "\n",
    "\n",
    "\n",
    "# -------8- find() Method--------\n",
    "# The find() method finds the first occurrence of the specified value.\n",
    "a = \"hello, world!\"\n",
    "print(a.find(\"o\"))  # 4\n",
    "\n",
    "\n",
    "\n",
    "# ------9- format() Method-------\n",
    "# The format() method formats specified values in a string.\n",
    "a = \"Hello, {}. Welcome to {}!\"\n",
    "print(a.format(\"John\", \"Python\"))  # Hello, John. Welcome to Python!\n",
    "\n",
    "\n",
    "\n",
    "# -------10- format_map() Method--------\n",
    "# The format_map() method formats specified values in a string using a dictionary.\n",
    "a = \"Hello, {name}. Welcome to {place}!\"\n",
    "my_dict = {\"name\": \"John\", \"place\": \"Python\"}\n",
    "print(a.format_map(my_dict))  # Hello, John. Welcome to Python!\n",
    "\n",
    "\n",
    "\n",
    "# -------11- index() Method---------\n",
    "# The index() method finds the first occurrence of the specified value.\n",
    "a = \"hello, world!\"\n",
    "print(a.index(\"o\"))  # 4\n",
    "\n",
    "\n",
    "\n",
    "#------- 12- isalnum() Method ---------\n",
    "# The isalnum() method returns True if all characters in the string are alphanumeric.\n",
    "a = \"hello123\"\n",
    "print(a.isalnum())  # True\n",
    "\n",
    "\n",
    "\n",
    "# -------13- isalpha() Method----------\n",
    "# The isalpha() method returns True if all characters in the string are alphabetic.\n",
    "a = \"hello\"\n",
    "print(a.isalpha())  # True\n",
    "\n",
    "\n",
    "\n",
    "# --------14- isdecimal() Method---------\n",
    "# The isdecimal() method returns True if all characters in the string are decimals.\n",
    "a = \"12345\"\n",
    "print(a.isdecimal())  # True\n",
    "\n",
    "\n",
    "\n",
    "# ---------15- isdigit() Method----------\n",
    "# The isdigit() method returns True if all characters in the string are digits.\n",
    "a = \"12345\"\n",
    "print(a.isdigit())  # True\n",
    "\n",
    "\n",
    "\n",
    "#--------- 16- isascii() Method------------\n",
    "# The isascii() method returns True if all characters in the string are ASCII characters.\n",
    "a = \"Hello\"\n",
    "print(a.isascii())  # True\n",
    "\n",
    "\n",
    "\n",
    "# ----------17- isidentifier() Method----------\n",
    "# The isidentifier() method returns True if the string is a valid identifier.\n",
    "a = \"Hello_123\"\n",
    "print(a.isidentifier())  # True\n",
    "\n",
    "\n",
    "\n",
    "# --------18- islower() Method----------\n",
    "# The islower() method returns True if all characters in the string are lower case.\n",
    "a = \"hello\"\n",
    "print(a.islower())  # True\n",
    "\n",
    "\n",
    "\n",
    "# ---------19- isnumeric() Method----------\n",
    "# The isnumeric() method returns True if all characters in the string are numeric.\n",
    "a = \"12345\"\n",
    "print(a.isnumeric())  # True\n",
    "\n",
    "\n",
    "\n",
    "# --------20- isprintable() Method-----------\n",
    "# The isprintable() method returns True if all characters in the string are printable.\n",
    "a = \"Hello\\nWorld\"\n",
    "print(a.isprintable())  # False\n",
    "\n",
    "\n",
    "\n",
    "# ----------21- isspace() Method------------\n",
    "# The isspace() method returns True if all characters in the string are whitespaces.\n",
    "a = \"   \"\n",
    "print(a.isspace())  # True\n",
    "\n",
    "\n",
    "\n",
    "# ----------22- istitle() Method------------\n",
    "# The istitle() method returns True if the string follows the rules of a title.\n",
    "a = \"Hello World\"\n",
    "print(a.istitle())  # True\n",
    "\n",
    "\n",
    "\n",
    "# ----------23- isupper() Method-------------\n",
    "# The isupper() method returns True if all characters in the string are upper case.\n",
    "a = \"HELLO\"\n",
    "print(a.isupper())  # True\n",
    "\n",
    "\n",
    "\n",
    "# -----------24- join() Method-------------\n",
    "# The join() method joins the elements of an iterable to the end of the string.\n",
    "a = [\"Hello\", \"World\"]\n",
    "print(\" \".join(a))  # Hello World\n",
    "\n",
    "\n",
    "\n",
    "# ----------25- ljust() Method-------------\n",
    "# The ljust() method returns a left justified version of the string.\n",
    "a = \"hello\" \n",
    "print(a.ljust(20))  # hello\n",
    "print(a.ljust(20, \"x\"))  # helloxxxxxxxxxxxxxxxx\n",
    "\n",
    "\n",
    "\n",
    "# ----------26- lower() Method ------------\n",
    "# The lower() method returns a string where all characters are lower case.\n",
    "a = \"HELLO, WORLD!\"\n",
    "print(a.lower())  # hello, world!\n",
    "\n",
    "\n",
    "\n",
    "# ----------27- lstrip() Method------------\n",
    "# The lstrip() method returns a left trim version of the string.\n",
    "a = \"   Hello, World!   \"\n",
    "print(a.lstrip())  # \"Hello, World!   \"\n",
    "\n",
    "\n",
    "\n",
    "# ----------28- maketrans() Method------------\n",
    "# The maketrans() method returns a translation table to be used in translations.\n",
    "a = \"hello\"\n",
    "b = \"12345\"\n",
    "trans = str.maketrans(a, b)\n",
    "print(\"hello\".translate(trans))  # 12345\n",
    "\n",
    "\n",
    "\n",
    "# ----------29- partition() Method -----------\n",
    "# The partition() method splits the string at the first occurrence of the specified value.\n",
    "a = \"hello, world!\"\n",
    "print(a.partition(\",\"))  # ('hello', ',', ' world!')\n",
    "\n",
    "\n",
    "\n",
    "# ----------30- replace() Method ------------\n",
    "# The replace() method replaces a specified value with a specified value.\n",
    "a = \"hello, world!\"\n",
    "print(a.replace(\"hello\", \"hi\"))  # hi, world!\n",
    "\n",
    "\n",
    "\n",
    "# -----------31- rfind() Method -----------\n",
    "# The rfind() method finds the last occurrence of the specified value.\n",
    "a = \"hello, world!\"\n",
    "print(a.rfind(\"o\"))  # 8\n",
    "\n",
    "\n",
    "\n",
    "# ----------32- rindex() Method -----------\n",
    "# The rindex() method finds the last occurrence of the specified value.\n",
    "a = \"hello, world!\"\n",
    "print(a.rindex(\"o\"))  # 8\n",
    "\n",
    "\n",
    "\n",
    "# -----------33- rjust() Method------------\n",
    "a = \"hello\"\n",
    "print(a.rjust(20))  #              hello\n",
    "print(a.rjust(20, \"x\"))  # xxxxxxxxxxxxxxxxhello\n",
    "\n",
    "\n",
    "\n",
    "\n",
    "# -----------34- rpartition() Method-------------\n",
    "# The rpartition() method splits the string at the last occurrence of the specified value.\n",
    "a = \"hello, world!\"\n",
    "print(a.rpartition(\",\"))  # ('hello', ',', ' world!')\n",
    "\n",
    "\n",
    "\n",
    "\n",
    "# ----------35- rsplit() Method------------\n",
    "# The rsplit() method splits the string at the specified separator, and returns a list.\n",
    "a = \"hello, world, welcome, to, python\"\n",
    "print(a.rsplit(\",\", 2))  # ['hello, world', ' welcome', ' to, python']\n",
    "\n",
    "\n",
    "\n",
    "\n",
    "# ----------36- rstrip() Method------------\n",
    "# The rstrip() method returns a right trim version of the string.\n",
    "a = \"   Hello, World!   \"\n",
    "print(a.rstrip())  # \"   Hello, World!\"\n",
    "\n",
    "\n",
    "\n",
    "# ----------37- split() Method------------\n",
    "# The split() method splits the string at the specified separator, and returns a list.\n",
    "a = \"hello, world, welcome, to, python\"\n",
    "print(a.split(\", \"))  # ['hello', 'world', 'welcome', 'to', 'python']\n",
    "\n",
    "\n",
    "\n",
    "# ----------38- splitlines() Method------------\n",
    "# The splitlines() method splits the string at line breaks and returns a list.\n",
    "a = \"Hello\\nWorld\\nWelcome\"\n",
    "print(a.splitlines())  # ['Hello', 'World', 'Welcome']\n",
    "\n",
    "\n",
    "\n",
    "# -----------39- startswith() Method-------------\n",
    "# The startswith() method returns True if the string starts with the specified value.\n",
    "a = \"hello, world!\"\n",
    "print(a.startswith(\"hello\"))  # True\n",
    "\n",
    "\n",
    "\n",
    "# ----------40- strip() Method------------\n",
    "# The strip() method removes any leading and trailing characters (space is the default).\n",
    "a = \"   Hello, World!   \"\n",
    "print(a.strip())  # \"Hello, World!\"\n",
    "\n",
    "\n",
    "\n",
    "# ----------41- swapcase() Method------------\n",
    "# The swapcase() method returns a string where all upper case letters are lower case and vice versa.\n",
    "a = \"Hello, World!\"\n",
    "print(a.swapcase())  # hELLO, wORLD!\n",
    "\n",
    "\n",
    "\n",
    "# ----------42- title() Method------------\n",
    "# The title() method returns a string where the first character in every word is upper case.\n",
    "a = \"hello, world!\"\n",
    "print(a.title())  # Hello, World!\n",
    "\n",
    "\n",
    "\n",
    "# ----------43- upper() Method------------\n",
    "# The upper() method returns a string where all characters are upper case.\n",
    "a = \"hello, world!\"\n",
    "print(a.upper())  # HELLO, WORLD!\n",
    "\n",
    "\n",
    "\n",
    "# ----------44- zfill() Method------------\n",
    "# The zfill() method adds zeros (0) at the beginning of the string, until it reaches the specified length.\n",
    "a = \"42\"\n",
    "print(a.zfill(5))  # 00042"
   ]
  },
  {
   "cell_type": "code",
   "execution_count": null,
   "id": "cb0b446e",
   "metadata": {},
   "outputs": [],
   "source": []
  },
  {
   "cell_type": "code",
   "execution_count": null,
   "id": "cb804039",
   "metadata": {},
   "outputs": [],
   "source": []
  }
 ],
 "metadata": {
  "kernelspec": {
   "display_name": "Python 3",
   "language": "python",
   "name": "python3"
  },
  "language_info": {
   "codemirror_mode": {
    "name": "ipython",
    "version": 3
   },
   "file_extension": ".py",
   "mimetype": "text/x-python",
   "name": "python",
   "nbconvert_exporter": "python",
   "pygments_lexer": "ipython3",
   "version": "3.11.9"
  }
 },
 "nbformat": 4,
 "nbformat_minor": 5
}
